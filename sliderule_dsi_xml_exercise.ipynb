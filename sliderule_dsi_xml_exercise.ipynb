{
 "cells": [
  {
   "cell_type": "markdown",
   "metadata": {},
   "source": [
    "****\n",
    "## XML exercise\n",
    "\n",
    "Using data in 'data/mondial_database.xml', the examples above, and refering to https://docs.python.org/2.7/library/xml.etree.elementtree.html, find\n",
    "\n",
    "1. 10 countries with the lowest infant mortality rates\n",
    "2. 10 cities with the largest population\n",
    "3. 10 ethnic groups with the largest overall populations (sum of best/latest estimates over all countries)\n",
    "4. name and country of a) longest river, b) largest lake and c) airport at highest elevation"
   ]
  },
  {
   "cell_type": "code",
   "execution_count": 1,
   "metadata": {
    "collapsed": true
   },
   "outputs": [],
   "source": [
    "import pandas as pd\n",
    "import numpy as np\n",
    "from xml.etree import ElementTree as ET"
   ]
  },
  {
   "cell_type": "code",
   "execution_count": 2,
   "metadata": {
    "collapsed": true
   },
   "outputs": [],
   "source": [
    "document = ET.parse( './data/mondial_database.xml' )"
   ]
  },
  {
   "cell_type": "code",
   "execution_count": 3,
   "metadata": {
    "collapsed": false
   },
   "outputs": [
    {
     "data": {
      "text/html": [
       "<div>\n",
       "<table border=\"1\" class=\"dataframe\">\n",
       "  <thead>\n",
       "    <tr style=\"text-align: right;\">\n",
       "      <th></th>\n",
       "      <th>contries</th>\n",
       "      <th>mortRates</th>\n",
       "    </tr>\n",
       "  </thead>\n",
       "  <tbody>\n",
       "    <tr>\n",
       "      <th>38</th>\n",
       "      <td>Monaco</td>\n",
       "      <td>1.81</td>\n",
       "    </tr>\n",
       "    <tr>\n",
       "      <th>98</th>\n",
       "      <td>Japan</td>\n",
       "      <td>2.13</td>\n",
       "    </tr>\n",
       "    <tr>\n",
       "      <th>117</th>\n",
       "      <td>Bermuda</td>\n",
       "      <td>2.48</td>\n",
       "    </tr>\n",
       "    <tr>\n",
       "      <th>36</th>\n",
       "      <td>Norway</td>\n",
       "      <td>2.48</td>\n",
       "    </tr>\n",
       "    <tr>\n",
       "      <th>106</th>\n",
       "      <td>Singapore</td>\n",
       "      <td>2.53</td>\n",
       "    </tr>\n",
       "    <tr>\n",
       "      <th>37</th>\n",
       "      <td>Sweden</td>\n",
       "      <td>2.60</td>\n",
       "    </tr>\n",
       "    <tr>\n",
       "      <th>10</th>\n",
       "      <td>Czech Republic</td>\n",
       "      <td>2.63</td>\n",
       "    </tr>\n",
       "    <tr>\n",
       "      <th>78</th>\n",
       "      <td>Hong Kong</td>\n",
       "      <td>2.73</td>\n",
       "    </tr>\n",
       "    <tr>\n",
       "      <th>79</th>\n",
       "      <td>Macao</td>\n",
       "      <td>3.13</td>\n",
       "    </tr>\n",
       "    <tr>\n",
       "      <th>44</th>\n",
       "      <td>Iceland</td>\n",
       "      <td>3.15</td>\n",
       "    </tr>\n",
       "  </tbody>\n",
       "</table>\n",
       "</div>"
      ],
      "text/plain": [
       "           contries  mortRates\n",
       "38           Monaco       1.81\n",
       "98            Japan       2.13\n",
       "117         Bermuda       2.48\n",
       "36           Norway       2.48\n",
       "106       Singapore       2.53\n",
       "37           Sweden       2.60\n",
       "10   Czech Republic       2.63\n",
       "78        Hong Kong       2.73\n",
       "79            Macao       3.13\n",
       "44          Iceland       3.15"
      ]
     },
     "execution_count": 3,
     "metadata": {},
     "output_type": "execute_result"
    }
   ],
   "source": [
    "counties=[]\n",
    "mortRates=[]\n",
    "for element in document.iterfind('country'):\n",
    "    counties.append(element.find('name').text)\n",
    "    capitals_string = ''\n",
    "    for subelement in element.getiterator('country'):\n",
    "        try: capitals_string += subelement.find('infant_mortality').text + ', '\n",
    "        except:pass\n",
    "    mortRates.append(capitals_string[:-2])\n",
    "df=pd.DataFrame()\n",
    "df['contries']=counties\n",
    "df['mortRates']=mortRates\n",
    "df.loc[df.mortRates.str.len() == 0,'mortRates'] = np.nan\n",
    "df['mortRates']=df['mortRates'].astype(float)\n",
    "df.sort('mortRates')[:10]"
   ]
  },
  {
   "cell_type": "markdown",
   "metadata": {
    "collapsed": true
   },
   "source": [
    "##10 cities with the largest population"
   ]
  },
  {
   "cell_type": "code",
   "execution_count": 4,
   "metadata": {
    "collapsed": false,
    "scrolled": true
   },
   "outputs": [
    {
     "data": {
      "text/html": [
       "<div>\n",
       "<table border=\"1\" class=\"dataframe\">\n",
       "  <thead>\n",
       "    <tr style=\"text-align: right;\">\n",
       "      <th></th>\n",
       "      <th>cities</th>\n",
       "      <th>population</th>\n",
       "    </tr>\n",
       "  </thead>\n",
       "  <tbody>\n",
       "    <tr>\n",
       "      <th>176</th>\n",
       "      <td>Seoul</td>\n",
       "      <td>9708483</td>\n",
       "    </tr>\n",
       "    <tr>\n",
       "      <th>164</th>\n",
       "      <td>Cairo</td>\n",
       "      <td>8471859</td>\n",
       "    </tr>\n",
       "    <tr>\n",
       "      <th>80</th>\n",
       "      <td>Bangkok</td>\n",
       "      <td>7506700</td>\n",
       "    </tr>\n",
       "    <tr>\n",
       "      <th>129</th>\n",
       "      <td>Macao</td>\n",
       "      <td>7055071</td>\n",
       "    </tr>\n",
       "    <tr>\n",
       "      <th>128</th>\n",
       "      <td>Hong Kong</td>\n",
       "      <td>7055071</td>\n",
       "    </tr>\n",
       "    <tr>\n",
       "      <th>92</th>\n",
       "      <td>Ho Chi Minh City</td>\n",
       "      <td>5968384</td>\n",
       "    </tr>\n",
       "    <tr>\n",
       "      <th>212</th>\n",
       "      <td>Singapore</td>\n",
       "      <td>5076700</td>\n",
       "    </tr>\n",
       "    <tr>\n",
       "      <th>163</th>\n",
       "      <td>Alexandria</td>\n",
       "      <td>4123869</td>\n",
       "    </tr>\n",
       "    <tr>\n",
       "      <th>216</th>\n",
       "      <td>New Taipei</td>\n",
       "      <td>3939305</td>\n",
       "    </tr>\n",
       "    <tr>\n",
       "      <th>177</th>\n",
       "      <td>Pusan</td>\n",
       "      <td>3403135</td>\n",
       "    </tr>\n",
       "  </tbody>\n",
       "</table>\n",
       "</div>"
      ],
      "text/plain": [
       "               cities  population\n",
       "176             Seoul     9708483\n",
       "164             Cairo     8471859\n",
       "80            Bangkok     7506700\n",
       "129             Macao     7055071\n",
       "128         Hong Kong     7055071\n",
       "92   Ho Chi Minh City     5968384\n",
       "212         Singapore     5076700\n",
       "163        Alexandria     4123869\n",
       "216        New Taipei     3939305\n",
       "177             Pusan     3403135"
      ]
     },
     "execution_count": 4,
     "metadata": {},
     "output_type": "execute_result"
    }
   ],
   "source": [
    "cities=[]\n",
    "population=[]\n",
    "df=pd.DataFrame()\n",
    "for city in document.findall('country/city'):\n",
    "    #name = ''\n",
    "    #population = 0\n",
    "    for node in list(city):\n",
    "        if node.tag == 'name':\n",
    "            name = node.text\n",
    "        elif node.tag == 'population':\n",
    "            # note: if multiple population tags, the last is used\n",
    "            # population tags sorted by year, so last is most recent\n",
    "            pop = int(node.text)\n",
    "    # only add cities with known populations\n",
    "    if population != 0:\n",
    "        cities.append(name)\n",
    "        population.append(pop)\n",
    "\n",
    "df['cities']=cities\n",
    "df['population']=population\n",
    "df.sort('population', ascending=False)[:10]"
   ]
  },
  {
   "cell_type": "markdown",
   "metadata": {
    "collapsed": false
   },
   "source": [
    "##10 ethnic groups with the largest overall populations (sum of best/latest estimates over all countries)"
   ]
  },
  {
   "cell_type": "code",
   "execution_count": 5,
   "metadata": {
    "collapsed": false
   },
   "outputs": [
    {
     "data": {
      "text/html": [
       "<div>\n",
       "<table border=\"1\" class=\"dataframe\">\n",
       "  <thead>\n",
       "    <tr style=\"text-align: right;\">\n",
       "      <th></th>\n",
       "      <th>ethnGroup</th>\n",
       "      <th>population</th>\n",
       "    </tr>\n",
       "  </thead>\n",
       "  <tbody>\n",
       "    <tr>\n",
       "      <th>176</th>\n",
       "      <td>Han Chinese</td>\n",
       "      <td>1245058800</td>\n",
       "    </tr>\n",
       "    <tr>\n",
       "      <th>221</th>\n",
       "      <td>Indo-Aryan</td>\n",
       "      <td>871815583</td>\n",
       "    </tr>\n",
       "    <tr>\n",
       "      <th>220</th>\n",
       "      <td>Dravidian</td>\n",
       "      <td>302713744</td>\n",
       "    </tr>\n",
       "    <tr>\n",
       "      <th>345</th>\n",
       "      <td>European</td>\n",
       "      <td>254958101</td>\n",
       "    </tr>\n",
       "    <tr>\n",
       "      <th>520</th>\n",
       "      <td>African</td>\n",
       "      <td>162651570</td>\n",
       "    </tr>\n",
       "    <tr>\n",
       "      <th>212</th>\n",
       "      <td>Bengali</td>\n",
       "      <td>146776916</td>\n",
       "    </tr>\n",
       "    <tr>\n",
       "      <th>299</th>\n",
       "      <td>Japanese</td>\n",
       "      <td>126534212</td>\n",
       "    </tr>\n",
       "    <tr>\n",
       "      <th>93</th>\n",
       "      <td>Russian</td>\n",
       "      <td>114646210</td>\n",
       "    </tr>\n",
       "    <tr>\n",
       "      <th>278</th>\n",
       "      <td>Javanese</td>\n",
       "      <td>113456006</td>\n",
       "    </tr>\n",
       "    <tr>\n",
       "      <th>461</th>\n",
       "      <td>European</td>\n",
       "      <td>108886717</td>\n",
       "    </tr>\n",
       "  </tbody>\n",
       "</table>\n",
       "</div>"
      ],
      "text/plain": [
       "       ethnGroup  population\n",
       "176  Han Chinese  1245058800\n",
       "221   Indo-Aryan   871815583\n",
       "220    Dravidian   302713744\n",
       "345     European   254958101\n",
       "520      African   162651570\n",
       "212      Bengali   146776916\n",
       "299     Japanese   126534212\n",
       "93       Russian   114646210\n",
       "278     Javanese   113456006\n",
       "461     European   108886717"
      ]
     },
     "execution_count": 5,
     "metadata": {},
     "output_type": "execute_result"
    }
   ],
   "source": [
    "ethnGroup=[]\n",
    "population=[]\n",
    "df=pd.DataFrame()\n",
    "# extract country, ethnic group, and population from xml\n",
    "for country in document.findall('country'):\n",
    "    #name = ''\n",
    "    #group = ''\n",
    "    #population = 0\n",
    "    for node in list(country):\n",
    "        if node.tag == 'name':\n",
    "            name = node.text\n",
    "        elif node.tag == 'population':\n",
    "            # note: if multiple population tags, the last is used\n",
    "            # population tags sorted by year, so last is most recent\n",
    "            pop = int(node.text)\n",
    "            year = int(node.attrib['year'])\n",
    "        elif node.tag == 'ethnicgroup':\n",
    "            percentage = float(node.attrib['percentage'])\n",
    "            group = node.text\n",
    "            \n",
    "            if group and percentage and pop:\n",
    "            # only add groups with known populations\n",
    "                #country.append(name)\n",
    "                ethnGroup.append(group)\n",
    "                # calculate ethnic group population from percentage of overall population\n",
    "                population.append(int(pop * percentage / 100))\n",
    "df['ethnGroup']=ethnGroup\n",
    "df['population']=population\n",
    "df.sort('population', ascending=False)[:10]"
   ]
  },
  {
   "cell_type": "markdown",
   "metadata": {
    "collapsed": false
   },
   "source": [
    "##name and country of a) longest river, b) largest lake and c) airport at highest elevation"
   ]
  },
  {
   "cell_type": "code",
   "execution_count": 6,
   "metadata": {
    "collapsed": false
   },
   "outputs": [],
   "source": [
    "# create dictionary for country codes\n",
    "countries=[]\n",
    "codes=[]\n",
    "countriesDf = pd.DataFrame()\n",
    "for country in document.findall('country'):\n",
    "    for node in list(country):\n",
    "        if node.tag == 'name':           \n",
    "            countries.append(node.text)\n",
    "            codes.append(country.attrib['car_code'])\n",
    "countriesDf['countries'] = countries\n",
    "countriesDf['codes'] = codes\n",
    "countriesDf.set_index('codes',inplace=True)\n",
    "dictionary=countriesDf.to_dict('dict').get('countries')"
   ]
  },
  {
   "cell_type": "markdown",
   "metadata": {
    "collapsed": true
   },
   "source": [
    "##Longest River"
   ]
  },
  {
   "cell_type": "code",
   "execution_count": 7,
   "metadata": {
    "collapsed": false
   },
   "outputs": [
    {
     "data": {
      "text/html": [
       "<div>\n",
       "<table border=\"1\" class=\"dataframe\">\n",
       "  <thead>\n",
       "    <tr style=\"text-align: right;\">\n",
       "      <th></th>\n",
       "      <th>country</th>\n",
       "      <th>length</th>\n",
       "      <th>name</th>\n",
       "    </tr>\n",
       "  </thead>\n",
       "  <tbody>\n",
       "    <tr>\n",
       "      <th>161</th>\n",
       "      <td>Colombia</td>\n",
       "      <td>6448</td>\n",
       "      <td>Amazonas</td>\n",
       "    </tr>\n",
       "  </tbody>\n",
       "</table>\n",
       "</div>"
      ],
      "text/plain": [
       "      country  length      name\n",
       "161  Colombia    6448  Amazonas"
      ]
     },
     "execution_count": 7,
     "metadata": {},
     "output_type": "execute_result"
    }
   ],
   "source": [
    "rows = []\n",
    "for river in document.iterfind('river'):\n",
    "    try:\n",
    "        rows.append({'name':river.find(\"name\").text,'length':int(river.find('length').text),'country':river.find('located').attrib['country']})\n",
    "        df = pd.DataFrame(rows) \n",
    "    except:\n",
    "        pass\n",
    "df.replace( {\"country\": dictionary}, inplace=True)\n",
    "df.sort('length', ascending=False)[:1]"
   ]
  },
  {
   "cell_type": "markdown",
   "metadata": {
    "collapsed": true
   },
   "source": [
    "##Largest Lake"
   ]
  },
  {
   "cell_type": "code",
   "execution_count": 8,
   "metadata": {
    "collapsed": false
   },
   "outputs": [
    {
     "data": {
      "text/html": [
       "<div>\n",
       "<table border=\"1\" class=\"dataframe\">\n",
       "  <thead>\n",
       "    <tr style=\"text-align: right;\">\n",
       "      <th></th>\n",
       "      <th>area</th>\n",
       "      <th>country</th>\n",
       "      <th>name</th>\n",
       "    </tr>\n",
       "  </thead>\n",
       "  <tbody>\n",
       "    <tr>\n",
       "      <th>42</th>\n",
       "      <td>386400</td>\n",
       "      <td>Russia</td>\n",
       "      <td>Caspian Sea</td>\n",
       "    </tr>\n",
       "  </tbody>\n",
       "</table>\n",
       "</div>"
      ],
      "text/plain": [
       "      area country         name\n",
       "42  386400  Russia  Caspian Sea"
      ]
     },
     "execution_count": 8,
     "metadata": {},
     "output_type": "execute_result"
    }
   ],
   "source": [
    "rows = []\n",
    "for lake in document.iterfind('lake'):\n",
    "    try:\n",
    "        rows.append({'name':lake.find(\"name\").text,'area':int(lake.find('area').text),'country':lake.find('located').attrib['country']})\n",
    "        df = pd.DataFrame(rows) \n",
    "    except:\n",
    "        pass\n",
    "df.replace( {\"country\": dictionary}, inplace=True)\n",
    "df.sort('area', ascending=False)[:1]"
   ]
  },
  {
   "cell_type": "markdown",
   "metadata": {
    "collapsed": false
   },
   "source": [
    "##Highest Airport"
   ]
  },
  {
   "cell_type": "code",
   "execution_count": 9,
   "metadata": {
    "collapsed": false
   },
   "outputs": [
    {
     "data": {
      "text/html": [
       "<div>\n",
       "<table border=\"1\" class=\"dataframe\">\n",
       "  <thead>\n",
       "    <tr style=\"text-align: right;\">\n",
       "      <th></th>\n",
       "      <th>country</th>\n",
       "      <th>elevation</th>\n",
       "      <th>name</th>\n",
       "    </tr>\n",
       "  </thead>\n",
       "  <tbody>\n",
       "    <tr>\n",
       "      <th>80</th>\n",
       "      <td>Bolivia</td>\n",
       "      <td>4063</td>\n",
       "      <td>El Alto Intl</td>\n",
       "    </tr>\n",
       "  </tbody>\n",
       "</table>\n",
       "</div>"
      ],
      "text/plain": [
       "    country  elevation          name\n",
       "80  Bolivia       4063  El Alto Intl"
      ]
     },
     "execution_count": 9,
     "metadata": {},
     "output_type": "execute_result"
    }
   ],
   "source": [
    "rows = []\n",
    "for airport in document.iterfind('airport'):\n",
    "    try:\n",
    "        rows.append({'name':airport.find(\"name\").text,'elevation':int(airport.find('elevation').text),'country':airport.attrib['country']})\n",
    "        df = pd.DataFrame(rows) \n",
    "    except:\n",
    "        pass\n",
    "df.replace( {\"country\": dictionary}, inplace=True)\n",
    "df.sort('elevation', ascending=False)[:1]"
   ]
  },
  {
   "cell_type": "code",
   "execution_count": null,
   "metadata": {
    "collapsed": true
   },
   "outputs": [],
   "source": []
  },
  {
   "cell_type": "code",
   "execution_count": null,
   "metadata": {
    "collapsed": true
   },
   "outputs": [],
   "source": []
  },
  {
   "cell_type": "code",
   "execution_count": null,
   "metadata": {
    "collapsed": true
   },
   "outputs": [],
   "source": []
  },
  {
   "cell_type": "code",
   "execution_count": null,
   "metadata": {
    "collapsed": true
   },
   "outputs": [],
   "source": []
  },
  {
   "cell_type": "code",
   "execution_count": null,
   "metadata": {
    "collapsed": true
   },
   "outputs": [],
   "source": []
  },
  {
   "cell_type": "code",
   "execution_count": null,
   "metadata": {
    "collapsed": true
   },
   "outputs": [],
   "source": []
  }
 ],
 "metadata": {
  "kernelspec": {
   "display_name": "Python 3",
   "language": "python",
   "name": "python3"
  },
  "language_info": {
   "codemirror_mode": {
    "name": "ipython",
    "version": 3
   },
   "file_extension": ".py",
   "mimetype": "text/x-python",
   "name": "python",
   "nbconvert_exporter": "python",
   "pygments_lexer": "ipython3",
   "version": "3.4.3"
  }
 },
 "nbformat": 4,
 "nbformat_minor": 0
}
